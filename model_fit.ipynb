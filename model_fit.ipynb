{
 "cells": [
  {
   "cell_type": "code",
   "execution_count": 115,
   "metadata": {},
   "outputs": [
    {
     "name": "stderr",
     "output_type": "stream",
     "text": [
      "The right-hand side routine failed at the first call.\n",
      "The right-hand side routine failed at the first call.\n",
      "The right-hand side routine failed at the first call.\n",
      "The right-hand side routine failed at the first call.\n",
      "The right-hand side routine failed at the first call.\n",
      "The right-hand side routine failed at the first call.\n",
      "2025-03-12 21:10:03.824 - [ERROR] callbacks.on_experiment_error(233): Simulation error: Maximum number of decreased steps occurred at t=0.0 (final SolverError: 'Error in Function::call for 'F' [CvodesInterface] at .../casadi/core/function.cpp:1432:\n",
      "Error in Function::call for 'F' [CvodesInterface] at .../casadi/core/function.cpp:361:\n",
      ".../casadi/interfaces/sundials/cvodes_interface.cpp:392: CVode returned \"CV_FIRST_RHSFUNC_ERR\". Consult CVODES documentation.'). For a full solution try reducing dt_max (currently, dt_max=600) and/or reducing the size of the time steps or period of the experiment. Set `return_solution_if_failed_early=True` to return the solution object up to the point where failure occured.\n"
     ]
    },
    {
     "name": "stdout",
     "output_type": "stream",
     "text": [
      "['Time [s]', 'Time [min]', 'Time [h]', 'Current variable [A]', 'Total current density [A.m-2]', 'Current [A]', 'C-rate', 'SoC', 'Open-circuit voltage [V]', 'Element-1 overpotential [V]', 'Cell temperature [degC]', 'Cell temperature [K]', 'Jig temperature [degC]', 'Jig temperature [K]', 'Ambient temperature [degC]', 'Ambient temperature [K]', 'Heat transfer from cell to jig [W]', 'Heat transfer from jig to ambient [W]', 'Entropic change [V/K]', 'Reversible heat generation [W]', 'R0 [Ohm]', 'Element-0 overpotential [V]', 'Element-0 irreversible heat generation [W]', 'R1 [Ohm]', 'C1 [F]', 'tau1 [s]', 'Element-1 irreversible heat generation [W]', 'Distributed SoC', 'x ECMD', 'Diffusion overpotential [V]', 'Surface SoC', 'Irreversible heat generation [W]', 'Total heat generation [W]', 'Voltage [V]', 'Overpotential [V]', 'Battery voltage [V]', 'Power [W]', 'Resistance [Ohm]']\n",
      "c1(Cell temperature [degC], 10.0) = zation\\data\\c(Cell temperature [degC], 10.0)\n"
     ]
    },
    {
     "ename": "SolverError",
     "evalue": "Maximum number of decreased steps occurred at t=0.0 (final SolverError: 'Error in Function::call for 'F' [CvodesInterface] at .../casadi/core/function.cpp:1432:\nError in Function::call for 'F' [CvodesInterface] at .../casadi/core/function.cpp:361:\n.../casadi/interfaces/sundials/cvodes_interface.cpp:392: CVode returned \"CV_FIRST_RHSFUNC_ERR\". Consult CVODES documentation.'). For a full solution try reducing dt_max (currently, dt_max=600) and/or reducing the size of the time steps or period of the experiment. Set `return_solution_if_failed_early=True` to return the solution object up to the point where failure occured.",
     "output_type": "error",
     "traceback": [
      "\u001b[1;31m---------------------------------------------------------------------------\u001b[0m",
      "\u001b[1;31mRuntimeError\u001b[0m                              Traceback (most recent call last)",
      "File \u001b[1;32mc:\\Users\\markv\\AppData\\Local\\Programs\\Python\\Python311\\Lib\\site-packages\\pybamm\\solvers\\casadi_solver.py:678\u001b[0m, in \u001b[0;36mCasadiSolver._run_integrator\u001b[1;34m(self, model, y0, inputs_dict, inputs, t_eval, use_grid, extract_sensitivities_in_solution)\u001b[0m\n\u001b[0;32m    677\u001b[0m \u001b[38;5;28;01mtry\u001b[39;00m:\n\u001b[1;32m--> 678\u001b[0m     casadi_sol \u001b[38;5;241m=\u001b[39m \u001b[43mintegrator\u001b[49m\u001b[43m(\u001b[49m\n\u001b[0;32m    679\u001b[0m \u001b[43m        \u001b[49m\u001b[43mx0\u001b[49m\u001b[38;5;241;43m=\u001b[39;49m\u001b[43my0_diff\u001b[49m\u001b[43m,\u001b[49m\u001b[43m \u001b[49m\u001b[43mz0\u001b[49m\u001b[38;5;241;43m=\u001b[39;49m\u001b[43my0_alg\u001b[49m\u001b[43m,\u001b[49m\u001b[43m \u001b[49m\u001b[43mp\u001b[49m\u001b[38;5;241;43m=\u001b[39;49m\u001b[43minputs_with_tmin\u001b[49m\u001b[43m,\u001b[49m\u001b[43m \u001b[49m\u001b[38;5;241;43m*\u001b[39;49m\u001b[38;5;241;43m*\u001b[39;49m\u001b[38;5;28;43mself\u001b[39;49m\u001b[38;5;241;43m.\u001b[39;49m\u001b[43mextra_options_call\u001b[49m\n\u001b[0;32m    680\u001b[0m \u001b[43m    \u001b[49m\u001b[43m)\u001b[49m\n\u001b[0;32m    681\u001b[0m \u001b[38;5;28;01mexcept\u001b[39;00m \u001b[38;5;167;01mRuntimeError\u001b[39;00m \u001b[38;5;28;01mas\u001b[39;00m error:\n\u001b[0;32m    682\u001b[0m     \u001b[38;5;66;03m# If it doesn't work raise error\u001b[39;00m\n",
      "File \u001b[1;32mc:\\Users\\markv\\AppData\\Local\\Programs\\Python\\Python311\\Lib\\site-packages\\casadi\\casadi.py:23556\u001b[0m, in \u001b[0;36mFunction.__call__\u001b[1;34m(self, *args, **kwargs)\u001b[0m\n\u001b[0;32m  23554\u001b[0m   \u001b[38;5;28;01melse\u001b[39;00m:\n\u001b[0;32m  23555\u001b[0m \u001b[38;5;66;03m# Named inputs -> return dictionary\u001b[39;00m\n\u001b[1;32m> 23556\u001b[0m     \u001b[38;5;28;01mreturn\u001b[39;00m \u001b[38;5;28;43mself\u001b[39;49m\u001b[38;5;241;43m.\u001b[39;49m\u001b[43mcall\u001b[49m\u001b[43m(\u001b[49m\u001b[43mkwargs\u001b[49m\u001b[43m)\u001b[49m\n",
      "File \u001b[1;32mc:\\Users\\markv\\AppData\\Local\\Programs\\Python\\Python311\\Lib\\site-packages\\casadi\\casadi.py:20205\u001b[0m, in \u001b[0;36mFunction.call\u001b[1;34m(self, *args)\u001b[0m\n\u001b[0;32m  20035\u001b[0m \u001b[38;5;250m\u001b[39m\u001b[38;5;124;03m\"\"\"\u001b[39;00m\n\u001b[0;32m  20036\u001b[0m \u001b[38;5;124;03m  [INTERNAL] \u001b[39;00m\n\u001b[0;32m  20037\u001b[0m \n\u001b[1;32m   (...)\u001b[0m\n\u001b[0;32m  20203\u001b[0m \n\u001b[0;32m  20204\u001b[0m \u001b[38;5;124;03m\"\"\"\u001b[39;00m\n\u001b[1;32m> 20205\u001b[0m \u001b[38;5;28;01mreturn\u001b[39;00m \u001b[43m_casadi\u001b[49m\u001b[38;5;241;43m.\u001b[39;49m\u001b[43mFunction_call\u001b[49m\u001b[43m(\u001b[49m\u001b[38;5;28;43mself\u001b[39;49m\u001b[43m,\u001b[49m\u001b[43m \u001b[49m\u001b[38;5;241;43m*\u001b[39;49m\u001b[43margs\u001b[49m\u001b[43m)\u001b[49m\n",
      "\u001b[1;31mRuntimeError\u001b[0m: Error in Function::call for 'F' [CvodesInterface] at .../casadi/core/function.cpp:1432:\nError in Function::call for 'F' [CvodesInterface] at .../casadi/core/function.cpp:361:\n.../casadi/interfaces/sundials/cvodes_interface.cpp:392: CVode returned \"CV_FIRST_RHSFUNC_ERR\". Consult CVODES documentation.",
      "\nThe above exception was the direct cause of the following exception:\n",
      "\u001b[1;31mSolverError\u001b[0m                               Traceback (most recent call last)",
      "File \u001b[1;32mc:\\Users\\markv\\AppData\\Local\\Programs\\Python\\Python311\\Lib\\site-packages\\pybamm\\solvers\\casadi_solver.py:245\u001b[0m, in \u001b[0;36mCasadiSolver._integrate\u001b[1;34m(self, model, t_eval, inputs_dict, t_interp)\u001b[0m\n\u001b[0;32m    241\u001b[0m pybamm\u001b[38;5;241m.\u001b[39mlogger\u001b[38;5;241m.\u001b[39mdebug(\n\u001b[0;32m    242\u001b[0m     \u001b[38;5;124m\"\u001b[39m\u001b[38;5;124mRunning integrator for \u001b[39m\u001b[38;5;124m\"\u001b[39m\n\u001b[0;32m    243\u001b[0m     \u001b[38;5;124mf\u001b[39m\u001b[38;5;124m\"\u001b[39m\u001b[38;5;132;01m{\u001b[39;00mt_window[\u001b[38;5;241m0\u001b[39m]\u001b[38;5;132;01m:\u001b[39;00m\u001b[38;5;124m.2f\u001b[39m\u001b[38;5;132;01m}\u001b[39;00m\u001b[38;5;124m < t < \u001b[39m\u001b[38;5;132;01m{\u001b[39;00mt_window[\u001b[38;5;241m-\u001b[39m\u001b[38;5;241m1\u001b[39m]\u001b[38;5;132;01m:\u001b[39;00m\u001b[38;5;124m.2f\u001b[39m\u001b[38;5;132;01m}\u001b[39;00m\u001b[38;5;124m\"\u001b[39m\n\u001b[0;32m    244\u001b[0m )\n\u001b[1;32m--> 245\u001b[0m current_step_sol \u001b[38;5;241m=\u001b[39m \u001b[38;5;28;43mself\u001b[39;49m\u001b[38;5;241;43m.\u001b[39;49m\u001b[43m_run_integrator\u001b[49m\u001b[43m(\u001b[49m\n\u001b[0;32m    246\u001b[0m \u001b[43m    \u001b[49m\u001b[43mmodel\u001b[49m\u001b[43m,\u001b[49m\n\u001b[0;32m    247\u001b[0m \u001b[43m    \u001b[49m\u001b[43my0\u001b[49m\u001b[43m,\u001b[49m\n\u001b[0;32m    248\u001b[0m \u001b[43m    \u001b[49m\u001b[43minputs_dict\u001b[49m\u001b[43m,\u001b[49m\n\u001b[0;32m    249\u001b[0m \u001b[43m    \u001b[49m\u001b[43minputs\u001b[49m\u001b[43m,\u001b[49m\n\u001b[0;32m    250\u001b[0m \u001b[43m    \u001b[49m\u001b[43mt_window\u001b[49m\u001b[43m,\u001b[49m\n\u001b[0;32m    251\u001b[0m \u001b[43m    \u001b[49m\u001b[43muse_grid\u001b[49m\u001b[38;5;241;43m=\u001b[39;49m\u001b[43muse_grid\u001b[49m\u001b[43m,\u001b[49m\n\u001b[0;32m    252\u001b[0m \u001b[43m    \u001b[49m\u001b[43mextract_sensitivities_in_solution\u001b[49m\u001b[38;5;241;43m=\u001b[39;49m\u001b[38;5;28;43;01mFalse\u001b[39;49;00m\u001b[43m,\u001b[49m\n\u001b[0;32m    253\u001b[0m \u001b[43m\u001b[49m\u001b[43m)\u001b[49m\n\u001b[0;32m    254\u001b[0m first_ts_solved \u001b[38;5;241m=\u001b[39m \u001b[38;5;28;01mTrue\u001b[39;00m\n",
      "File \u001b[1;32mc:\\Users\\markv\\AppData\\Local\\Programs\\Python\\Python311\\Lib\\site-packages\\pybamm\\solvers\\casadi_solver.py:684\u001b[0m, in \u001b[0;36mCasadiSolver._run_integrator\u001b[1;34m(self, model, y0, inputs_dict, inputs, t_eval, use_grid, extract_sensitivities_in_solution)\u001b[0m\n\u001b[0;32m    683\u001b[0m     pybamm\u001b[38;5;241m.\u001b[39mlogger\u001b[38;5;241m.\u001b[39mdebug(\u001b[38;5;124mf\u001b[39m\u001b[38;5;124m\"\u001b[39m\u001b[38;5;124mCasadi integrator failed with error \u001b[39m\u001b[38;5;132;01m{\u001b[39;00merror\u001b[38;5;132;01m}\u001b[39;00m\u001b[38;5;124m\"\u001b[39m)\n\u001b[1;32m--> 684\u001b[0m     \u001b[38;5;28;01mraise\u001b[39;00m pybamm\u001b[38;5;241m.\u001b[39mSolverError(error\u001b[38;5;241m.\u001b[39margs[\u001b[38;5;241m0\u001b[39m]) \u001b[38;5;28;01mfrom\u001b[39;00m \u001b[38;5;21;01merror\u001b[39;00m\n\u001b[0;32m    685\u001b[0m pybamm\u001b[38;5;241m.\u001b[39mlogger\u001b[38;5;241m.\u001b[39mdebug(\u001b[38;5;124m\"\u001b[39m\u001b[38;5;124mFinished casadi integrator\u001b[39m\u001b[38;5;124m\"\u001b[39m)\n",
      "\u001b[1;31mSolverError\u001b[0m: Error in Function::call for 'F' [CvodesInterface] at .../casadi/core/function.cpp:1432:\nError in Function::call for 'F' [CvodesInterface] at .../casadi/core/function.cpp:361:\n.../casadi/interfaces/sundials/cvodes_interface.cpp:392: CVode returned \"CV_FIRST_RHSFUNC_ERR\". Consult CVODES documentation.",
      "\nThe above exception was the direct cause of the following exception:\n",
      "\u001b[1;31mSolverError\u001b[0m                               Traceback (most recent call last)",
      "Cell \u001b[1;32mIn[115], line 56\u001b[0m\n\u001b[0;32m     53\u001b[0m solver \u001b[38;5;241m=\u001b[39m pybamm\u001b[38;5;241m.\u001b[39mCasadiSolver()\n\u001b[0;32m     55\u001b[0m sim \u001b[38;5;241m=\u001b[39m pybamm\u001b[38;5;241m.\u001b[39mSimulation(model, parameter_values\u001b[38;5;241m=\u001b[39mparameter_values, experiment\u001b[38;5;241m=\u001b[39mexperiment, solver\u001b[38;5;241m=\u001b[39msolver)\n\u001b[1;32m---> 56\u001b[0m \u001b[43msim\u001b[49m\u001b[38;5;241;43m.\u001b[39;49m\u001b[43msolve\u001b[49m\u001b[43m(\u001b[49m\u001b[43m)\u001b[49m\n\u001b[0;32m     57\u001b[0m sim\u001b[38;5;241m.\u001b[39mplot()\n",
      "File \u001b[1;32mc:\\Users\\markv\\AppData\\Local\\Programs\\Python\\Python311\\Lib\\site-packages\\pybamm\\simulation.py:775\u001b[0m, in \u001b[0;36mSimulation.solve\u001b[1;34m(self, t_eval, solver, save_at_cycles, calc_esoh, starting_solution, initial_soc, callbacks, showprogress, inputs, t_interp, **kwargs)\u001b[0m\n\u001b[0;32m    773\u001b[0m \u001b[38;5;66;03m# If none of the cycles worked, raise an error\u001b[39;00m\n\u001b[0;32m    774\u001b[0m \u001b[38;5;28;01mif\u001b[39;00m cycle_num \u001b[38;5;241m==\u001b[39m \u001b[38;5;241m1\u001b[39m \u001b[38;5;129;01mand\u001b[39;00m step_num \u001b[38;5;241m==\u001b[39m \u001b[38;5;241m1\u001b[39m:\n\u001b[1;32m--> 775\u001b[0m     \u001b[38;5;28;01mraise\u001b[39;00m error\n\u001b[0;32m    776\u001b[0m \u001b[38;5;66;03m# Otherwise, just stop this cycle\u001b[39;00m\n\u001b[0;32m    777\u001b[0m \u001b[38;5;28;01mbreak\u001b[39;00m\n",
      "File \u001b[1;32mc:\\Users\\markv\\AppData\\Local\\Programs\\Python\\Python311\\Lib\\site-packages\\pybamm\\simulation.py:751\u001b[0m, in \u001b[0;36mSimulation.solve\u001b[1;34m(self, t_eval, solver, save_at_cycles, calc_esoh, starting_solution, initial_soc, callbacks, showprogress, inputs, t_interp, **kwargs)\u001b[0m\n\u001b[0;32m    746\u001b[0m t_eval, t_interp_processed \u001b[38;5;241m=\u001b[39m step\u001b[38;5;241m.\u001b[39msetup_timestepping(\n\u001b[0;32m    747\u001b[0m     solver, dt, t_interp\n\u001b[0;32m    748\u001b[0m )\n\u001b[0;32m    750\u001b[0m \u001b[38;5;28;01mtry\u001b[39;00m:\n\u001b[1;32m--> 751\u001b[0m     step_solution \u001b[38;5;241m=\u001b[39m \u001b[43msolver\u001b[49m\u001b[38;5;241;43m.\u001b[39;49m\u001b[43mstep\u001b[49m\u001b[43m(\u001b[49m\n\u001b[0;32m    752\u001b[0m \u001b[43m        \u001b[49m\u001b[43mcurrent_solution\u001b[49m\u001b[43m,\u001b[49m\n\u001b[0;32m    753\u001b[0m \u001b[43m        \u001b[49m\u001b[43mmodel\u001b[49m\u001b[43m,\u001b[49m\n\u001b[0;32m    754\u001b[0m \u001b[43m        \u001b[49m\u001b[43mdt\u001b[49m\u001b[43m,\u001b[49m\n\u001b[0;32m    755\u001b[0m \u001b[43m        \u001b[49m\u001b[43mt_eval\u001b[49m\u001b[43m,\u001b[49m\n\u001b[0;32m    756\u001b[0m \u001b[43m        \u001b[49m\u001b[43mt_interp\u001b[49m\u001b[38;5;241;43m=\u001b[39;49m\u001b[43mt_interp_processed\u001b[49m\u001b[43m,\u001b[49m\n\u001b[0;32m    757\u001b[0m \u001b[43m        \u001b[49m\u001b[43msave\u001b[49m\u001b[38;5;241;43m=\u001b[39;49m\u001b[38;5;28;43;01mFalse\u001b[39;49;00m\u001b[43m,\u001b[49m\n\u001b[0;32m    758\u001b[0m \u001b[43m        \u001b[49m\u001b[43minputs\u001b[49m\u001b[38;5;241;43m=\u001b[39;49m\u001b[43minputs\u001b[49m\u001b[43m,\u001b[49m\n\u001b[0;32m    759\u001b[0m \u001b[43m        \u001b[49m\u001b[38;5;241;43m*\u001b[39;49m\u001b[38;5;241;43m*\u001b[39;49m\u001b[43mkwargs\u001b[49m\u001b[43m,\u001b[49m\n\u001b[0;32m    760\u001b[0m \u001b[43m    \u001b[49m\u001b[43m)\u001b[49m\n\u001b[0;32m    761\u001b[0m \u001b[38;5;28;01mexcept\u001b[39;00m pybamm\u001b[38;5;241m.\u001b[39mSolverError \u001b[38;5;28;01mas\u001b[39;00m error:\n\u001b[0;32m    762\u001b[0m     \u001b[38;5;28;01mif\u001b[39;00m (\n\u001b[0;32m    763\u001b[0m         \u001b[38;5;124m\"\u001b[39m\u001b[38;5;124mnon-positive at initial conditions\u001b[39m\u001b[38;5;124m\"\u001b[39m \u001b[38;5;129;01min\u001b[39;00m error\u001b[38;5;241m.\u001b[39mmessage\n\u001b[0;32m    764\u001b[0m         \u001b[38;5;129;01mand\u001b[39;00m \u001b[38;5;124m\"\u001b[39m\u001b[38;5;124m[experiment]\u001b[39m\u001b[38;5;124m\"\u001b[39m \u001b[38;5;129;01min\u001b[39;00m error\u001b[38;5;241m.\u001b[39mmessage\n\u001b[0;32m    765\u001b[0m     ):\n",
      "File \u001b[1;32mc:\\Users\\markv\\AppData\\Local\\Programs\\Python\\Python311\\Lib\\site-packages\\pybamm\\solvers\\base_solver.py:1363\u001b[0m, in \u001b[0;36mBaseSolver.step\u001b[1;34m(self, old_solution, model, dt, t_eval, npts, inputs, save, calculate_sensitivities, t_interp)\u001b[0m\n\u001b[0;32m   1361\u001b[0m     solution \u001b[38;5;241m=\u001b[39m solutions[\u001b[38;5;241m0\u001b[39m]\n\u001b[0;32m   1362\u001b[0m \u001b[38;5;28;01melse\u001b[39;00m:\n\u001b[1;32m-> 1363\u001b[0m     solution \u001b[38;5;241m=\u001b[39m \u001b[38;5;28;43mself\u001b[39;49m\u001b[38;5;241;43m.\u001b[39;49m\u001b[43m_integrate\u001b[49m\u001b[43m(\u001b[49m\u001b[43mmodel\u001b[49m\u001b[43m,\u001b[49m\u001b[43m \u001b[49m\u001b[43mt_eval\u001b[49m\u001b[43m,\u001b[49m\u001b[43m \u001b[49m\u001b[43mmodel_inputs\u001b[49m\u001b[43m,\u001b[49m\u001b[43m \u001b[49m\u001b[43mt_interp\u001b[49m\u001b[43m)\u001b[49m\n\u001b[0;32m   1364\u001b[0m solution\u001b[38;5;241m.\u001b[39msolve_time \u001b[38;5;241m=\u001b[39m timer\u001b[38;5;241m.\u001b[39mtime()\n\u001b[0;32m   1366\u001b[0m \u001b[38;5;66;03m# Check if extrapolation occurred\u001b[39;00m\n",
      "File \u001b[1;32mc:\\Users\\markv\\AppData\\Local\\Programs\\Python\\Python311\\Lib\\site-packages\\pybamm\\solvers\\casadi_solver.py:282\u001b[0m, in \u001b[0;36mCasadiSolver._integrate\u001b[1;34m(self, model, t_eval, inputs_dict, t_interp)\u001b[0m\n\u001b[0;32m    280\u001b[0m                 \u001b[38;5;28;01mbreak\u001b[39;00m\n\u001b[0;32m    281\u001b[0m             \u001b[38;5;28;01melse\u001b[39;00m:\n\u001b[1;32m--> 282\u001b[0m                 \u001b[38;5;28;01mraise\u001b[39;00m pybamm\u001b[38;5;241m.\u001b[39mSolverError(\n\u001b[0;32m    283\u001b[0m                     message\n\u001b[0;32m    284\u001b[0m                     \u001b[38;5;241m+\u001b[39m \u001b[38;5;124m\"\u001b[39m\u001b[38;5;124m Set `return_solution_if_failed_early=True` to \u001b[39m\u001b[38;5;124m\"\u001b[39m\n\u001b[0;32m    285\u001b[0m                     \u001b[38;5;124m\"\u001b[39m\u001b[38;5;124mreturn the solution object up to the point where \u001b[39m\u001b[38;5;124m\"\u001b[39m\n\u001b[0;32m    286\u001b[0m                     \u001b[38;5;124m\"\u001b[39m\u001b[38;5;124mfailure occured.\u001b[39m\u001b[38;5;124m\"\u001b[39m\n\u001b[0;32m    287\u001b[0m                 ) \u001b[38;5;28;01mfrom\u001b[39;00m \u001b[38;5;21;01merror\u001b[39;00m\n\u001b[0;32m    288\u001b[0m \u001b[38;5;28;01mif\u001b[39;00m termination_due_to_small_dt:\n\u001b[0;32m    289\u001b[0m     \u001b[38;5;28;01mbreak\u001b[39;00m\n",
      "\u001b[1;31mSolverError\u001b[0m: Maximum number of decreased steps occurred at t=0.0 (final SolverError: 'Error in Function::call for 'F' [CvodesInterface] at .../casadi/core/function.cpp:1432:\nError in Function::call for 'F' [CvodesInterface] at .../casadi/core/function.cpp:361:\n.../casadi/interfaces/sundials/cvodes_interface.cpp:392: CVode returned \"CV_FIRST_RHSFUNC_ERR\". Consult CVODES documentation.'). For a full solution try reducing dt_max (currently, dt_max=600) and/or reducing the size of the time steps or period of the experiment. Set `return_solution_if_failed_early=True` to return the solution object up to the point where failure occured."
     ]
    }
   ],
   "source": [
    "import pybamm\n",
    "import os\n",
    "import numpy as np\n",
    "import matplotlib.pyplot as plt\n",
    "\n",
    "# Load your data (you've already done this part)\n",
    "path = os.getcwd()\n",
    "ocv_data = pybamm.parameters.process_1D_data(\"parameterization\\\\data\\\\G1_ocv.csv\", path=path)\n",
    "r0_data = pybamm.parameters.process_2D_data_csv(\"parameterization\\\\data\\\\r0.csv\", path=path)\n",
    "r1_data = pybamm.parameters.process_2D_data_csv(\"parameterization\\\\data\\\\r1.csv\", path=path)\n",
    "c1_data = pybamm.parameters.process_2D_data_csv(\"parameterization\\\\data\\\\c1.csv\", path=path)\n",
    "\n",
    "def ocv(sto):\n",
    "    name, (x, y) = ocv_data\n",
    "    result = pybamm.Interpolant(x, y, sto, name)\n",
    "    return result\n",
    "\n",
    "def r0(current, soc, *args):\n",
    "    name, (x, y) = r0_data\n",
    "    result = pybamm.Interpolant(x, y, [current, soc], name)\n",
    "    return result\n",
    "\n",
    "def r1(current, soc, *args):\n",
    "    name, (x, y) = r1_data\n",
    "    result = pybamm.Interpolant(x, y, [current, soc], name)\n",
    "    return result\n",
    "\n",
    "def c1(current, soc, *args):\n",
    "    name, (x, y) = c1_data\n",
    "    result = pybamm.Interpolant(x, y, [current, soc], name)\n",
    "    print(f\"c1({current}, {soc}) = {result}\")\n",
    "    return result\n",
    "\n",
    "\n",
    "model = pybamm.equivalent_circuit.Thevenin()\n",
    "\n",
    "print(model.variable_names())\n",
    "\n",
    "parameter_values = pybamm.ParameterValues(\"ECM_Example\")\n",
    "parameter_values.update({\n",
    "    \"R0 [Ohm]\": r0,\n",
    "    \"R1 [Ohm]\": r1,\n",
    "    \"C1 [F]\": c1,\n",
    "})\n",
    "\n",
    "experiment = pybamm.Experiment(\n",
    "    [\n",
    "        (\n",
    "            \"Discharge at C/10 for 10 hours or until 3.3 V\",\n",
    "        ),\n",
    "    ]\n",
    ")\n",
    "solver = pybamm.CasadiSolver()\n",
    "\n",
    "sim = pybamm.Simulation(model, parameter_values=parameter_values, experiment=experiment, solver=solver)\n",
    "sim.solve()\n",
    "sim.plot()"
   ]
  },
  {
   "cell_type": "code",
   "execution_count": 54,
   "metadata": {},
   "outputs": [
    {
     "name": "stdout",
     "output_type": "stream",
     "text": [
      "OCV with SoC=100: [[4.18903048]], OCV with SoC=1: [[2.69901124]]\n",
      "R0 with SoC=100: [-418.92871185], R0 with SoC=1: [559976.27249219]\n",
      "R1 with SoC=100: [-418.92871185], R1 with SoC=1: [559976.27249219]\n",
      "Voltage with SoC=100: [[41897.06021593]], Voltage with SoC=1: [[-55997624.55020822]]\n"
     ]
    }
   ],
   "source": [
    "# Evaluate initial conditions correctly\n",
    "initial_soc_100 = pybamm.Scalar(100)  # SoC scaled to 100%\n",
    "initial_soc_1 = pybamm.Scalar(1)      # SoC scaled to 0-1 range\n",
    "initial_current = pybamm.Scalar(100)\n",
    "\n",
    "# Compute OCV for both cases\n",
    "ocv_value_100 = ocv(initial_soc_100).evaluate()\n",
    "ocv_value_1 = ocv(initial_soc_1).evaluate()\n",
    "print(f\"OCV with SoC=100: {ocv_value_100}, OCV with SoC=1: {ocv_value_1}\")\n",
    "\n",
    "# Compute R0 and R1 for both cases\n",
    "r0_value_100 = r0(initial_current, initial_soc_100).evaluate()\n",
    "r0_value_1 = r0(initial_current, initial_soc_1).evaluate()\n",
    "r1_value_100 = r1(initial_current, initial_soc_100).evaluate()\n",
    "r1_value_1 = r1(initial_current, initial_soc_1).evaluate()\n",
    "\n",
    "print(f\"R0 with SoC=100: {r0_value_100}, R0 with SoC=1: {r0_value_1}\")\n",
    "print(f\"R1 with SoC=100: {r1_value_100}, R1 with SoC=1: {r1_value_1}\")\n",
    "\n",
    "# Compute voltage correctly\n",
    "R_100 = r0_value_100\n",
    "R_1 = r0_value_1\n",
    "I = initial_current.evaluate()\n",
    "\n",
    "V_100 = ocv_value_100 - (I * R_100)\n",
    "V_1 = ocv_value_1 - (I * R_1)\n",
    "\n",
    "print(f\"Voltage with SoC=100: {V_100}, Voltage with SoC=1: {V_1}\")\n"
   ]
  },
  {
   "cell_type": "code",
   "execution_count": 55,
   "metadata": {},
   "outputs": [
    {
     "name": "stdout",
     "output_type": "stream",
     "text": [
      "OCV with SoC=100: [[2.69901124]], OCV with SoC=1: [[2.69901124]]\n",
      "R0 with SoC=100: [559976.27249219], R0 with SoC=1: [559976.27249219]\n",
      "R1 with SoC=100: [559976.27249219], R1 with SoC=1: [559976.27249219]\n",
      "Voltage with SoC=100: [[-55997624.55020822]], Voltage with SoC=1: [[-55997624.55020822]]\n"
     ]
    }
   ],
   "source": [
    "# Scale the SoC from 100 to 1 range for correct model input\n",
    "initial_soc_100 = pybamm.Scalar(100 / 100)  # SoC scaled to 1 (100% becomes 1)\n",
    "initial_soc_1 = pybamm.Scalar(1)            # SoC already in 0-1 range\n",
    "initial_current = pybamm.Scalar(100)\n",
    "\n",
    "# Compute OCV for both cases\n",
    "ocv_value_100 = ocv(initial_soc_100).evaluate()\n",
    "ocv_value_1 = ocv(initial_soc_1).evaluate()\n",
    "print(f\"OCV with SoC=100: {ocv_value_100}, OCV with SoC=1: {ocv_value_1}\")\n",
    "\n",
    "# Compute R0 and R1 for both cases\n",
    "r0_value_100 = r0(initial_current, initial_soc_100).evaluate()\n",
    "r0_value_1 = r0(initial_current, initial_soc_1).evaluate()\n",
    "r1_value_100 = r1(initial_current, initial_soc_100).evaluate()\n",
    "r1_value_1 = r1(initial_current, initial_soc_1).evaluate()\n",
    "\n",
    "print(f\"R0 with SoC=100: {r0_value_100}, R0 with SoC=1: {r0_value_1}\")\n",
    "print(f\"R1 with SoC=100: {r1_value_100}, R1 with SoC=1: {r1_value_1}\")\n",
    "\n",
    "# Compute voltage correctly\n",
    "R_100 = r0_value_100\n",
    "R_1 = r0_value_1\n",
    "I = initial_current.evaluate()\n",
    "\n",
    "V_100 = ocv_value_100 - (I * R_100)\n",
    "V_1 = ocv_value_1 - (I * R_1)\n",
    "\n",
    "print(f\"Voltage with SoC=100: {V_100}, Voltage with SoC=1: {V_1}\")\n"
   ]
  },
  {
   "cell_type": "code",
   "execution_count": 42,
   "metadata": {},
   "outputs": [
    {
     "ename": "SolverError",
     "evalue": "Events ['Minimum voltage [V]'] are non-positive at initial conditions",
     "output_type": "error",
     "traceback": [
      "\u001b[1;31m---------------------------------------------------------------------------\u001b[0m",
      "\u001b[1;31mSolverError\u001b[0m                               Traceback (most recent call last)",
      "Cell \u001b[1;32mIn[42], line 10\u001b[0m\n\u001b[0;32m      7\u001b[0m solver \u001b[38;5;241m=\u001b[39m pybamm\u001b[38;5;241m.\u001b[39mCasadiSolver(mode\u001b[38;5;241m=\u001b[39m\u001b[38;5;124m\"\u001b[39m\u001b[38;5;124mfast\u001b[39m\u001b[38;5;124m\"\u001b[39m, atol\u001b[38;5;241m=\u001b[39m\u001b[38;5;241m1e-6\u001b[39m, rtol\u001b[38;5;241m=\u001b[39m\u001b[38;5;241m1e-3\u001b[39m)\n\u001b[0;32m      9\u001b[0m sim \u001b[38;5;241m=\u001b[39m pybamm\u001b[38;5;241m.\u001b[39mSimulation(model, parameter_values\u001b[38;5;241m=\u001b[39mparameter_values)\n\u001b[1;32m---> 10\u001b[0m \u001b[43msim\u001b[49m\u001b[38;5;241;43m.\u001b[39;49m\u001b[43msolve\u001b[49m\u001b[43m(\u001b[49m\u001b[43mt_eval\u001b[49m\u001b[38;5;241;43m=\u001b[39;49m\u001b[43mt_eval\u001b[49m\u001b[43m)\u001b[49m\n\u001b[0;32m     11\u001b[0m sim\u001b[38;5;241m.\u001b[39mplot()\n",
      "File \u001b[1;32mc:\\Users\\markv\\AppData\\Local\\Programs\\Python\\Python311\\Lib\\site-packages\\pybamm\\simulation.py:542\u001b[0m, in \u001b[0;36mSimulation.solve\u001b[1;34m(self, t_eval, solver, save_at_cycles, calc_esoh, starting_solution, initial_soc, callbacks, showprogress, inputs, t_interp, **kwargs)\u001b[0m\n\u001b[0;32m    530\u001b[0m             \u001b[38;5;28;01mif\u001b[39;00m dt_eval_max \u001b[38;5;241m>\u001b[39m np\u001b[38;5;241m.\u001b[39mnextafter(dt_data_min, np\u001b[38;5;241m.\u001b[39minf):\n\u001b[0;32m    531\u001b[0m                 warnings\u001b[38;5;241m.\u001b[39mwarn(\n\u001b[0;32m    532\u001b[0m                     \u001b[38;5;124mf\u001b[39m\u001b[38;5;124m\"\u001b[39m\u001b[38;5;124mThe largest timestep in t_eval (\u001b[39m\u001b[38;5;132;01m{\u001b[39;00mdt_eval_max\u001b[38;5;132;01m}\u001b[39;00m\u001b[38;5;124m) is larger than \u001b[39m\u001b[38;5;124m\"\u001b[39m\n\u001b[0;32m    533\u001b[0m                     \u001b[38;5;124mf\u001b[39m\u001b[38;5;124m\"\u001b[39m\u001b[38;5;124mthe smallest timestep in the data (\u001b[39m\u001b[38;5;132;01m{\u001b[39;00mdt_data_min\u001b[38;5;132;01m}\u001b[39;00m\u001b[38;5;124m). The returned \u001b[39m\u001b[38;5;124m\"\u001b[39m\n\u001b[1;32m   (...)\u001b[0m\n\u001b[0;32m    539\u001b[0m                     stacklevel\u001b[38;5;241m=\u001b[39m\u001b[38;5;241m2\u001b[39m,\n\u001b[0;32m    540\u001b[0m                 )\n\u001b[1;32m--> 542\u001b[0m     \u001b[38;5;28mself\u001b[39m\u001b[38;5;241m.\u001b[39m_solution \u001b[38;5;241m=\u001b[39m \u001b[43msolver\u001b[49m\u001b[38;5;241;43m.\u001b[39;49m\u001b[43msolve\u001b[49m\u001b[43m(\u001b[49m\n\u001b[0;32m    543\u001b[0m \u001b[43m        \u001b[49m\u001b[38;5;28;43mself\u001b[39;49m\u001b[38;5;241;43m.\u001b[39;49m\u001b[43m_built_model\u001b[49m\u001b[43m,\u001b[49m\u001b[43m \u001b[49m\u001b[43mt_eval\u001b[49m\u001b[43m,\u001b[49m\u001b[43m \u001b[49m\u001b[43minputs\u001b[49m\u001b[38;5;241;43m=\u001b[39;49m\u001b[43minputs\u001b[49m\u001b[43m,\u001b[49m\u001b[43m \u001b[49m\u001b[43mt_interp\u001b[49m\u001b[38;5;241;43m=\u001b[39;49m\u001b[43mt_interp\u001b[49m\u001b[43m,\u001b[49m\u001b[43m \u001b[49m\u001b[38;5;241;43m*\u001b[39;49m\u001b[38;5;241;43m*\u001b[39;49m\u001b[43mkwargs\u001b[49m\n\u001b[0;32m    544\u001b[0m \u001b[43m    \u001b[49m\u001b[43m)\u001b[49m\n\u001b[0;32m    546\u001b[0m \u001b[38;5;28;01melif\u001b[39;00m \u001b[38;5;28mself\u001b[39m\u001b[38;5;241m.\u001b[39moperating_mode \u001b[38;5;241m==\u001b[39m \u001b[38;5;124m\"\u001b[39m\u001b[38;5;124mwith experiment\u001b[39m\u001b[38;5;124m\"\u001b[39m:\n\u001b[0;32m    547\u001b[0m     callbacks\u001b[38;5;241m.\u001b[39mon_experiment_start(logs)\n",
      "File \u001b[1;32mc:\\Users\\markv\\AppData\\Local\\Programs\\Python\\Python311\\Lib\\site-packages\\pybamm\\solvers\\base_solver.py:885\u001b[0m, in \u001b[0;36mBaseSolver.solve\u001b[1;34m(self, model, t_eval, inputs, nproc, calculate_sensitivities, t_interp)\u001b[0m\n\u001b[0;32m    882\u001b[0m timer\u001b[38;5;241m.\u001b[39mreset()\n\u001b[0;32m    884\u001b[0m \u001b[38;5;66;03m# Check initial conditions don't violate events\u001b[39;00m\n\u001b[1;32m--> 885\u001b[0m \u001b[38;5;28;43mself\u001b[39;49m\u001b[38;5;241;43m.\u001b[39;49m\u001b[43m_check_events_with_initialization\u001b[49m\u001b[43m(\u001b[49m\u001b[43mt_eval\u001b[49m\u001b[43m,\u001b[49m\u001b[43m \u001b[49m\u001b[43mmodel\u001b[49m\u001b[43m,\u001b[49m\u001b[43m \u001b[49m\u001b[43mmodel_inputs_list\u001b[49m\u001b[43m[\u001b[49m\u001b[38;5;241;43m0\u001b[39;49m\u001b[43m]\u001b[49m\u001b[43m)\u001b[49m\n\u001b[0;32m    887\u001b[0m \u001b[38;5;66;03m# Process discontinuities\u001b[39;00m\n\u001b[0;32m    888\u001b[0m (\n\u001b[0;32m    889\u001b[0m     start_indices,\n\u001b[0;32m    890\u001b[0m     end_indices,\n\u001b[0;32m    891\u001b[0m     t_eval,\n\u001b[0;32m    892\u001b[0m ) \u001b[38;5;241m=\u001b[39m \u001b[38;5;28mself\u001b[39m\u001b[38;5;241m.\u001b[39m_get_discontinuity_start_end_indices(model, inputs, t_eval)\n",
      "File \u001b[1;32mc:\\Users\\markv\\AppData\\Local\\Programs\\Python\\Python311\\Lib\\site-packages\\pybamm\\solvers\\base_solver.py:1092\u001b[0m, in \u001b[0;36mBaseSolver._check_events_with_initialization\u001b[1;34m(t_eval, model, inputs_dict)\u001b[0m\n\u001b[0;32m   1090\u001b[0m idxs \u001b[38;5;241m=\u001b[39m np\u001b[38;5;241m.\u001b[39mwhere(events_eval \u001b[38;5;241m<\u001b[39m \u001b[38;5;241m0\u001b[39m)[\u001b[38;5;241m0\u001b[39m]\n\u001b[0;32m   1091\u001b[0m event_names \u001b[38;5;241m=\u001b[39m [termination_events[idx]\u001b[38;5;241m.\u001b[39mname \u001b[38;5;28;01mfor\u001b[39;00m idx \u001b[38;5;129;01min\u001b[39;00m idxs]\n\u001b[1;32m-> 1092\u001b[0m \u001b[38;5;28;01mraise\u001b[39;00m pybamm\u001b[38;5;241m.\u001b[39mSolverError(\n\u001b[0;32m   1093\u001b[0m     \u001b[38;5;124mf\u001b[39m\u001b[38;5;124m\"\u001b[39m\u001b[38;5;124mEvents \u001b[39m\u001b[38;5;132;01m{\u001b[39;00mevent_names\u001b[38;5;132;01m}\u001b[39;00m\u001b[38;5;124m are non-positive at initial conditions\u001b[39m\u001b[38;5;124m\"\u001b[39m\n\u001b[0;32m   1094\u001b[0m )\n",
      "\u001b[1;31mSolverError\u001b[0m: Events ['Minimum voltage [V]'] are non-positive at initial conditions"
     ]
    }
   ],
   "source": [
    "#model = pybamm.equivalent_circuit.Thevenin()\n",
    "model = pybamm.lithium_ion.SplitOCVR()\n",
    "\n",
    "parameter_values = pybamm.ParameterValues(values=get_parameter_values())\n",
    "\n",
    "t_eval = [0,3600]\n",
    "solver = pybamm.CasadiSolver(mode=\"fast\", atol=1e-6, rtol=1e-3)\n",
    "\n",
    "sim = pybamm.Simulation(model, parameter_values=parameter_values, experiment=experiment, solver=solver)\n",
    "sim.solve(t_eval=t_eval)\n",
    "sim.plot()"
   ]
  },
  {
   "cell_type": "code",
   "execution_count": 39,
   "metadata": {},
   "outputs": [
    {
     "name": "stdout",
     "output_type": "stream",
     "text": [
      "R0 Data: ('parameterization\\\\data\\\\r0', ((array([298.15]), array([2.6603632 , 2.66038561, 2.66040325, 2.66042423, 2.66043043,\n",
      "       2.66043234, 2.6604352 , 2.66044092, 2.66046524, 4.85023355])), array([[99.95057391, 92.3934429 , 81.33499995, 71.35668487, 61.46862011,\n",
      "        50.7033229 , 42.65453546, 33.24365645, 22.33075269, 12.40409754]])))\n"
     ]
    }
   ],
   "source": [
    "print(\"R0 Data:\", r0_data)"
   ]
  },
  {
   "cell_type": "code",
   "execution_count": null,
   "metadata": {},
   "outputs": [],
   "source": []
  }
 ],
 "metadata": {
  "kernelspec": {
   "display_name": "Python 3",
   "language": "python",
   "name": "python3"
  },
  "language_info": {
   "codemirror_mode": {
    "name": "ipython",
    "version": 3
   },
   "file_extension": ".py",
   "mimetype": "text/x-python",
   "name": "python",
   "nbconvert_exporter": "python",
   "pygments_lexer": "ipython3",
   "version": "3.11.1"
  }
 },
 "nbformat": 4,
 "nbformat_minor": 2
}
